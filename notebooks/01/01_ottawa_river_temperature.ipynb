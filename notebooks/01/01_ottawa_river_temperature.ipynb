{
 "cells": [
  {
   "cell_type": "markdown",
   "id": "3e9f56da-07bd-4d5f-a44a-bd1d3595c228",
   "metadata": {},
   "source": [
    "# Jupyter Notebook - Ottawa River Temperature\n",
    "\n",
    "CSI 4106 - Fall 2025\n",
    "\n",
    "Marcel Turcotte (School of Electrical Engineering and Computer Science,\n",
    "University of Ottawa)  \n",
    "2025-09-04\n",
    "\n",
    "# Learning objectives\n",
    "\n",
    "-   **Demonstrate** a basic understanding of Jupyter Notebooks.\n",
    "-   **Execute** code cells within Jupyter Notebooks using Google Colab.\n",
    "-   **Modify** a Jupyter Notebook with simple changes and execute the\n",
    "    updated code cells in Google Colab.\n",
    "\n",
    "# Quick Start\n",
    "\n",
    "## Play with this notebook online without having to install anything\n",
    "\n",
    "While the specifics of the code will be discussed in subsequent\n",
    "notebooks, it is important to note that this notebook requires the\n",
    "installation of both [pandas](https://pandas.pydata.org) and\n",
    "[matplotlib](https://matplotlib.org). These libraries are pre-installed\n",
    "on [Google Colab](https://colab.research.google.com), facilitating\n",
    "immediate use. However, a Google account is needed in order to execute\n",
    "the code!\n",
    "\n",
    "-   <a target=\"_blank\" href=\"https://colab.research.google.com/github/turcotte/csi4106-f24/blob/main/notebooks/lectures/02/01_ottawa_river_temperature.ipynb\">\n",
    "    <img src=\"https://colab.research.google.com/assets/colab-badge.svg\" alt=\"Open In Colab\"/>\n",
    "    </a>\n",
    "\n",
    "If you are viewing this document on the course website, you are seeing\n",
    "the result of converting a Jupyter Notebook to HTML. You can download\n",
    "the corresponding Jupyter Notebook from the table of contents, typically\n",
    "located in the upper right corner when browsing on a computer.\n",
    "Alternatively, you can download it directly\n",
    "[here](01_ottawa_river_temperature.ipynb).\n",
    "\n",
    "## Look at this notebook, without executing any code\n",
    "\n",
    "-   <a target=\"_blank\" href=\"https://nbviewer.jupyter.org/github/turcotte/csi4106-f24/blob/main/notebooks/lectures/02/01_ottawa_river_temperature.ipynb\">\n",
    "    <img src=\"https://raw.githubusercontent.com/jupyter/design/master/logos/Badges/nbviewer_badge.svg\" alt=\"Open In nbviewer\"/>\n",
    "    </a>\n",
    "\n",
    "# Concepts\n",
    "\n",
    "A Jupyter notebook is an interactive computational environment that\n",
    "combines code execution, text, and multimedia in a single document.\n",
    "Below are the key components of a Jupyter notebook:\n",
    "\n",
    "## Cells\n",
    "\n",
    "-   **Code Cells:** These cells contain executable code, typically in\n",
    "    Python, but other languages like R, Julia, and Scala are also\n",
    "    supported. The code is executed in the kernel, and the output is\n",
    "    displayed directly below the cell.\n",
    "-   **Markdown Cells:** These cells contain text formatted using\n",
    "    Markdown. They are used to add explanations, headers, bullet points,\n",
    "    links, images, and other formatted text to the notebook.\n",
    "-   **Raw Cells:** These cells contain text that is not meant to be\n",
    "    executed or rendered. They are useful for including code snippets or\n",
    "    text that should remain unformatted.\n",
    "\n",
    "## Execution\n",
    "\n",
    "-   **Standard Output:** The output of code execution, including text,\n",
    "    tables, and plots, is displayed directly below the code cell.\n",
    "-   **Rich Media Output:** Jupyter notebooks support rich media output\n",
    "    such as HTML, images, videos, LaTeX, and interactive widgets (e.g.,\n",
    "    Plotly, Bokeh).\n",
    "\n",
    "# Ottawa River Temperature\n",
    "\n",
    "In this example, we utilize the [**Ottawa River\n",
    "Temperature**](https://open.ottawa.ca/documents/2dff4bca304f4308996681aa6265f64d/about)\n",
    "dataset, available through the [City of Ottawa’s Open Data\n",
    "portal](https://open.ottawa.ca).\n",
    "\n",
    "## Importing the necessary librairies"
   ]
  },
  {
   "cell_type": "code",
   "execution_count": 1,
   "id": "d6c86825",
   "metadata": {},
   "outputs": [],
   "source": [
    "import pandas as pd\n",
    "import matplotlib.pyplot as plt\n",
    "import requests\n",
    "from io import BytesIO"
   ]
  },
  {
   "cell_type": "markdown",
   "id": "5d9a4c36-f145-4abc-a988-e5b1503b53ed",
   "metadata": {},
   "source": [
    "## Fetching the data\n",
    "\n",
    "> **Warning**\n",
    ">\n",
    "> When working with Google Colab, it is essential to recognize that you\n",
    "> are operating within a temporary environment. Any data or changes made\n",
    "> will be deleted after the session ends. Therefore, it is imperative to\n",
    "> download and securely store any data or results that you wish to\n",
    "> retain.\n",
    ">\n",
    "> You are also responsible for ensuring that the source code for your\n",
    "> assignments remains private and is not publicly accessible."
   ]
  },
  {
   "cell_type": "code",
   "execution_count": 2,
   "id": "f7bf8002",
   "metadata": {},
   "outputs": [],
   "source": [
    "# URL of the Excel file\n",
    "url = 'https://www.arcgis.com/sharing/rest/content/items/2dff4bca304f4308996681aa6265f64d/data'\n",
    "\n",
    "# Fetch the Excel file from the web\n",
    "response = requests.get(url)\n",
    "response.raise_for_status()  # Ensure we notice bad responses"
   ]
  },
  {
   "cell_type": "markdown",
   "id": "7ebd97c4-7fcf-4824-9234-9ae5808c6c04",
   "metadata": {},
   "source": [
    "## Reading the Excel file"
   ]
  },
  {
   "cell_type": "code",
   "execution_count": null,
   "id": "672bb54d",
   "metadata": {},
   "outputs": [],
   "source": [
    "# Read the Excel file into a pandas DataFrame\n",
    "df = pd.read_excel(BytesIO(response.content), sheet_name='Britannia raw water temperature', header=None)"
   ]
  },
  {
   "cell_type": "markdown",
   "id": "07e3053b-36f6-4d8c-aa77-7eed4fef3076",
   "metadata": {},
   "source": [
    "## Extracting the data from the Excel file\n",
    "\n",
    "Columns B to U contain daily average temperatures for each year from\n",
    "2005 to 2023, with each column corresponding to a specific year. Rows 11\n",
    "to 375 represent daily average values, where row 11 corresponds to\n",
    "January 1 and row 375 corresponds to December 31. For example, cell B11\n",
    "contains the average temperature for January 1, 2005, while cell U375\n",
    "contains the average temperature for December 31, 2023."
   ]
  },
  {
   "cell_type": "code",
   "execution_count": null,
   "id": "a967d2f8",
   "metadata": {},
   "outputs": [],
   "source": [
    "# Define the range of years and columns\n",
    "years = range(2005, 2023 + 1)  # Up to 2023 as per your description\n",
    "columns = range(1, 21)  # Columns B to U (1-indexed in Excel, 0-indexed in pandas)\n",
    "\n",
    "# Prepare a dictionary to hold the data\n",
    "data = {}\n",
    "\n",
    "# Extract data for each year\n",
    "for year, col in zip(years, columns):\n",
    "    # Note: B11 to B375 corresponds to row indices 10 to 374 in pandas (0-indexed)\n",
    "    data[year] = df.iloc[10:375, col].values"
   ]
  },
  {
   "cell_type": "markdown",
   "id": "22a06f42-efd5-421c-9ff7-ec6231cc5e05",
   "metadata": {},
   "source": [
    "## Ploting the data"
   ]
  },
  {
   "cell_type": "code",
   "execution_count": null,
   "id": "a04dd8df",
   "metadata": {},
   "outputs": [],
   "source": [
    "# Plot the data\n",
    "plt.figure(figsize=(12, 8))\n",
    "\n",
    "for year in years:\n",
    "  if year == 2023:\n",
    "    plt.plot(data[year], label=str(year), linewidth=3, linestyle='--')\n",
    "  else:\n",
    "    plt.plot(data[year], label=str(year))\n",
    "\n",
    "plt.xlabel('Day of the Year')\n",
    "plt.ylabel('Daily Average Water Temperature')\n",
    "plt.title('Daily Average Ottawa River Water Temperature from 2005 to 2023')\n",
    "plt.legend(title='Year')\n",
    "plt.grid(True)\n",
    "plt.show()"
   ]
  },
  {
   "cell_type": "markdown",
   "id": "f5db6efa-864e-4c21-9adc-5d3a74e337fd",
   "metadata": {},
   "source": [
    "# Experimentation\n",
    "\n",
    "Gain familiarity with the technology by performing the following tasks:\n",
    "\n",
    "1.  Modify the year range to span from 2020 to 2023 and regenerate the\n",
    "    plot.\n",
    "2.  Refer to the\n",
    "    [documentation](https://matplotlib.org/stable/gallery/lines_bars_and_markers/linestyles.html)\n",
    "    to alter the line style.\n",
    "3.  Consult the [markdown\n",
    "    documentation](https://jupyter-notebook.readthedocs.io/en/stable/examples/Notebook/Working%20With%20Markdown%20Cells.html)."
   ]
  }
 ],
 "metadata": {
  "kernelspec": {
   "display_name": "Python 3 (ipykernel)",
   "language": "python",
   "name": "python3"
  },
  "language_info": {
   "codemirror_mode": {
    "name": "ipython",
    "version": 3
   },
   "file_extension": ".py",
   "mimetype": "text/x-python",
   "name": "python",
   "nbconvert_exporter": "python",
   "pygments_lexer": "ipython3",
   "version": "3.10.18"
  }
 },
 "nbformat": 4,
 "nbformat_minor": 5
}
