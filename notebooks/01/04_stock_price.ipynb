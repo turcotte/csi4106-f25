{
  "cells": [
    {
      "cell_type": "markdown",
      "metadata": {},
      "source": [
        "# Jupyter Notebook - Stock Prices\n",
        "\n",
        "CSI 4106 - Fall 2025\n",
        "\n",
        "Marcel Turcotte (School of Electrical Engineering and Computer Science,\n",
        "University of Ottawa)  \n",
        "2025-09-04\n",
        "\n",
        "# Market Capitalization of NVIDIA and Intel (2012 - 2024)\n",
        "\n",
        "The Python library `yfinance` is often used to download stock market\n",
        "data."
      ],
      "id": "106ebd31-5615-4b1c-94d5-f0409b29c648"
    },
    {
      "cell_type": "code",
      "execution_count": 1,
      "metadata": {},
      "outputs": [],
      "source": [
        "import yfinance as yf\n",
        "import matplotlib.pyplot as plt"
      ],
      "id": "a377b7cf"
    },
    {
      "cell_type": "markdown",
      "metadata": {},
      "source": [
        "Let’s define the stocks that are of interest for this analysis."
      ],
      "id": "2b5c234f-6483-48f8-a8c7-5eb15c0887f5"
    },
    {
      "cell_type": "code",
      "execution_count": 2,
      "metadata": {},
      "outputs": [],
      "source": [
        "# Define the tickers for NVIDIA and Intel\n",
        "tickers = ['NVDA', 'INTC']"
      ],
      "id": "2018e873"
    },
    {
      "cell_type": "markdown",
      "metadata": {},
      "source": [
        "Now, downloading the data to our Colab instance or local computer."
      ],
      "id": "2f52a074-a494-4f01-853d-910b383fe6e7"
    },
    {
      "cell_type": "code",
      "execution_count": 3,
      "metadata": {},
      "outputs": [],
      "source": [
        "# Download the historical market data since 2012\n",
        "data = yf.download(tickers, start='2012-01-01', end='2024-01-01', group_by='ticker')"
      ],
      "id": "3936b1c3"
    },
    {
      "cell_type": "markdown",
      "metadata": {},
      "source": [
        "Focusing on the closing prices."
      ],
      "id": "30df3ac7-5618-4ec7-88b5-86febcba621f"
    },
    {
      "cell_type": "code",
      "execution_count": 4,
      "metadata": {},
      "outputs": [],
      "source": [
        "# Extract the adjusted closing prices\n",
        "nvda_data = data['NVDA']['Adj Close']\n",
        "intc_data = data['INTC']['Adj Close']"
      ],
      "id": "843de20b"
    },
    {
      "cell_type": "markdown",
      "metadata": {},
      "source": [
        "Drawing."
      ],
      "id": "640ee588-2b4a-448c-a65f-27798b8a988b"
    },
    {
      "cell_type": "code",
      "execution_count": 5,
      "metadata": {},
      "outputs": [],
      "source": [
        "# Plot the stock price data\n",
        "plt.figure(figsize=(12, 6))\n",
        "plt.plot(nvda_data.index, nvda_data, label='NVIDIA')\n",
        "plt.plot(intc_data.index, intc_data, label='Intel')\n",
        "plt.title('Stock Prices of NVIDIA and Intel (2012 - 2024)')\n",
        "plt.xlabel('Date')\n",
        "plt.ylabel('Stock Price (USD)')\n",
        "plt.legend()\n",
        "plt.grid(True)\n",
        "plt.show()"
      ],
      "id": "e019174a"
    },
    {
      "cell_type": "markdown",
      "metadata": {},
      "source": [
        "Now calculating the market capitalisation."
      ],
      "id": "15ef4a9e-e36e-4f4a-a57c-6f8070eab22e"
    },
    {
      "cell_type": "code",
      "execution_count": 6,
      "metadata": {},
      "outputs": [],
      "source": [
        "# Fetch the number of shares outstanding (this gives the most recent value)\n",
        "nvda_shares = yf.Ticker('NVDA').info['sharesOutstanding']\n",
        "intc_shares = yf.Ticker('INTC').info['sharesOutstanding']\n",
        "\n",
        "# Calculate market capitalization (Adjusted Close * shares outstanding)\n",
        "nvda_market_cap = data['NVDA']['Adj Close'] * nvda_shares\n",
        "intc_market_cap = data['INTC']['Adj Close'] * intc_shares"
      ],
      "id": "8c67a6f4"
    },
    {
      "cell_type": "markdown",
      "metadata": {},
      "source": [
        "While the share prices of NVIDIA and Intel are comparable, NVIDIA’s\n",
        "market capitalization has experienced a significant increase since 2020,\n",
        "in contrast to Intel’s more stable market capitalization."
      ],
      "id": "25c744a9-65b8-4d57-8f72-988070196ebb"
    },
    {
      "cell_type": "code",
      "execution_count": 7,
      "metadata": {},
      "outputs": [],
      "source": [
        "# Plot the market capitalization data\n",
        "plt.figure(figsize=(12, 6))\n",
        "plt.plot(nvda_market_cap.index, nvda_market_cap, label='NVIDIA')\n",
        "plt.plot(intc_market_cap.index, intc_market_cap, label='Intel')\n",
        "plt.title('Market Capitalization of NVIDIA and Intel (2012 - 2024)')\n",
        "plt.xlabel('Date')\n",
        "plt.ylabel('Market Capitalization (USD)')\n",
        "plt.legend()\n",
        "plt.grid(True)\n",
        "plt.show()"
      ],
      "id": "7c67215f"
    }
  ],
  "nbformat": 4,
  "nbformat_minor": 5,
  "metadata": {
    "kernelspec": {
      "name": "python3",
      "display_name": "Python 3 (ipykernel)",
      "language": "python",
      "path": "/Users/turcotte/opt/micromamba/envs/ai/share/jupyter/kernels/python3"
    },
    "language_info": {
      "name": "python",
      "codemirror_mode": {
        "name": "ipython",
        "version": "3"
      },
      "file_extension": ".py",
      "mimetype": "text/x-python",
      "nbconvert_exporter": "python",
      "pygments_lexer": "ipython3",
      "version": "3.10.18"
    }
  }
}