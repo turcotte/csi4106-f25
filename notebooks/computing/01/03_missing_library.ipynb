{
  "cells": [
    {
      "cell_type": "markdown",
      "metadata": {},
      "source": [
        "# Jupyter Notebook - Missing Library\n",
        "\n",
        "CSI 4106 - Fall 2025\n",
        "\n",
        "Marcel Turcotte (School of Electrical Engineering and Computer Science,\n",
        "University of Ottawa)  \n",
        "2025-09-05\n",
        "\n",
        "# Learning objective\n",
        "\n",
        "-   **Illustrate** the process of identifying and resolving missing\n",
        "    library issues in Google Colab.\n",
        "\n",
        "> **Important**\n",
        ">\n",
        "> This example is meant to be executed in [Google\n",
        "> Colab](https://colab.research.google.com).\n",
        "\n",
        "# Import\n",
        "\n",
        "In this notebook, we use the\n",
        "[langdetect](https://github.com/Mimino666/langdetect) library to\n",
        "accurately identify the language of given text samples.\n",
        "\n",
        "First, let’s import `langdetect`."
      ],
      "id": "72662e2e-05d4-45c1-a66c-1504394fd33d"
    },
    {
      "cell_type": "code",
      "execution_count": 1,
      "metadata": {},
      "outputs": [],
      "source": [
        "from langdetect import detect"
      ],
      "id": "8333199f"
    },
    {
      "cell_type": "markdown",
      "metadata": {},
      "source": [
        "Executing the code cell above will result in an error, as the\n",
        "`langdetect` library is not installed by default in Google Colab.\n",
        "\n",
        "    ---------------------------------------------------------------------------\n",
        "    ModuleNotFoundError                       Traceback (most recent call last)\n",
        "\n",
        "This issue can be resolved by adding the following line of code before\n",
        "the first `import` statement. Try it!\n",
        "\n",
        "``` bash\n",
        "! pip install langdetect\n",
        "```\n",
        "\n",
        "Once this issue has been solved, we can call `detect`. Try it!"
      ],
      "id": "a97f3242-4fc1-49b0-8ce6-c1ae48108e84"
    },
    {
      "cell_type": "code",
      "execution_count": 2,
      "metadata": {},
      "outputs": [],
      "source": [
        "detect(\"Bonjour tout le monde!\")"
      ],
      "id": "1e7d2a9b"
    },
    {
      "cell_type": "markdown",
      "metadata": {},
      "source": [
        "# Exploration\n",
        "\n",
        "`!` allows to run [Unix/Linux shell commands in\n",
        "IPython](https://www.python4data.science/en/latest/workspace/ipython/shell.html).\n",
        "Create a code cell and try these commands.\n",
        "\n",
        "-   `! uname -a` displays information about the system.\n",
        "-   `! ls` displays the content of the current directory.\n",
        "-   `! ls /` displays the content of the root directory.\n",
        "-   `! pwd` returns working directory name.\n",
        "\n",
        "These commands are useful for debugging code, as they provide\n",
        "information about the computing environment, such as the operating\n",
        "system version and the contents of the local directory."
      ],
      "id": "a16f014e-6330-47eb-b8df-7860cf4a1804"
    }
  ],
  "nbformat": 4,
  "nbformat_minor": 5,
  "metadata": {
    "kernelspec": {
      "name": "python3",
      "display_name": "Python 3 (ipykernel)",
      "language": "python",
      "path": "/Users/turcotte/opt/micromamba/envs/ai/share/jupyter/kernels/python3"
    },
    "language_info": {
      "name": "python",
      "codemirror_mode": {
        "name": "ipython",
        "version": "3"
      },
      "file_extension": ".py",
      "mimetype": "text/x-python",
      "nbconvert_exporter": "python",
      "pygments_lexer": "ipython3",
      "version": "3.10.18"
    }
  }
}