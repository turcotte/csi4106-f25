{
  "cells": [
    {
      "cell_type": "markdown",
      "metadata": {},
      "source": [
        "# Jupyter Notebook - Missing Library\n",
        "\n",
        "CSI 4106 - Fall 2025\n",
        "\n",
        "Marcel Turcotte (School of Electrical Engineering and Computer Science,\n",
        "University of Ottawa)  \n",
        "2025-09-05\n",
        "\n",
        "# Learning objective\n",
        "\n",
        "-   **Illustrate** the process of identifying and resolving missing\n",
        "    library issues in Google Colab.\n",
        "\n",
        "> **Important**\n",
        ">\n",
        "> This example is meant to be executed in [Google\n",
        "> Colab](https://colab.research.google.com).\n",
        "\n",
        "# Import\n",
        "\n",
        "In this notebook, we use the\n",
        "[langdetect](https://github.com/Mimino666/langdetect) library to\n",
        "accurately identify the language of given text samples.\n",
        "\n",
        "First, let’s import `langdetect`."
      ],
      "id": "6085ccd2-649b-4651-ab48-b65d4e5d09c6"
    },
    {
      "cell_type": "code",
      "execution_count": 1,
      "metadata": {},
      "outputs": [],
      "source": [
        "from langdetect import detect"
      ],
      "id": "a66e6ceb"
    },
    {
      "cell_type": "markdown",
      "metadata": {},
      "source": [
        "Executing the code cell above will result in an error, as the\n",
        "`langdetect` library is not installed by default in Google Colab.\n",
        "\n",
        "    ---------------------------------------------------------------------------\n",
        "    ModuleNotFoundError                       Traceback (most recent call last)\n",
        "    /tmp/ipython-input-193950075.py in <cell line: 0>()\n",
        "    ----> 1 from langdetect import detect\n",
        "\n",
        "    ModuleNotFoundError: No module named 'langdetect'\n",
        "\n",
        "    ---------------------------------------------------------------------------\n",
        "    NOTE: If your import is failing due to a missing package, you can\n",
        "    manually install dependencies using either !pip or !apt.\n",
        "\n",
        "    To view examples of installing some common dependencies, click the\n",
        "    \"Open Examples\" button below.\n",
        "    ---------------------------------------------------------------------------\n",
        "\n",
        "This issue can be resolved by adding the following line of code before\n",
        "the first `import` statement. Try it!\n",
        "\n",
        "``` bash\n",
        "! pip install langdetect\n",
        "```\n",
        "\n",
        "Once this issue has been solved, we can call `detect`. Try it!"
      ],
      "id": "704e01c2-28dc-4c97-ae30-64ed6f9dd00f"
    },
    {
      "cell_type": "code",
      "execution_count": 2,
      "metadata": {},
      "outputs": [],
      "source": [
        "detect(\"Bonjour tout le monde!\")"
      ],
      "id": "b4711377"
    },
    {
      "cell_type": "markdown",
      "metadata": {},
      "source": [
        "# Best Practice\n",
        "\n",
        "You could have predicted this scenario. If the `langdetect` library is\n",
        "not installed, captured the resulting exception, and proceeded to\n",
        "install the library.\n",
        "\n",
        "``` python\n",
        "try:\n",
        "    from langdetect import detect\n",
        "except ImportError:\n",
        "    print(\"langdetect not found, installing...\")\n",
        "    import sys\n",
        "    ! pip install langdetect\n",
        "    from langdetect import detect  # retry after install\n",
        "```\n",
        "\n",
        "# Exploration\n",
        "\n",
        "`!` allows to run [Unix/Linux shell commands in\n",
        "IPython](https://www.python4data.science/en/latest/workspace/ipython/shell.html).\n",
        "Create a code cell and try these commands.\n",
        "\n",
        "-   `! uname -a` displays information about the system.\n",
        "-   `! ls` displays the content of the current directory.\n",
        "-   `! ls /` displays the content of the root directory.\n",
        "-   `! pwd` returns working directory name.\n",
        "\n",
        "These commands are useful for debugging code, as they provide\n",
        "information about the computing environment, such as the operating\n",
        "system version and the contents of the local directory."
      ],
      "id": "5c3f51c6-1008-47e3-a194-e4c361db2d4d"
    }
  ],
  "nbformat": 4,
  "nbformat_minor": 5,
  "metadata": {
    "kernelspec": {
      "name": "python3",
      "display_name": "Python 3 (ipykernel)",
      "language": "python",
      "path": "/Users/turcotte/opt/micromamba/envs/ai/share/jupyter/kernels/python3"
    },
    "language_info": {
      "name": "python",
      "codemirror_mode": {
        "name": "ipython",
        "version": "3"
      },
      "file_extension": ".py",
      "mimetype": "text/x-python",
      "nbconvert_exporter": "python",
      "pygments_lexer": "ipython3",
      "version": "3.10.18"
    }
  }
}