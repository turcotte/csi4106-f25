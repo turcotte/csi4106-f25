{
  "cells": [
    {
      "cell_type": "markdown",
      "metadata": {},
      "source": [
        "# Jupyter Notebook - Stock Prices\n",
        "\n",
        "CSI 4106 - Fall 2025\n",
        "\n",
        "Marcel Turcotte (School of Electrical Engineering and Computer Science,\n",
        "University of Ottawa)  \n",
        "2025-09-05\n",
        "\n",
        "# Market Capitalization of NVIDIA and Intel (2012 - 2024)\n",
        "\n",
        "The Python library `yfinance` is often used to download stock market\n",
        "data."
      ],
      "id": "cc9a762d-eac4-4023-9b0c-1b71d9b2a646"
    },
    {
      "cell_type": "code",
      "execution_count": 1,
      "metadata": {},
      "outputs": [],
      "source": [
        "import yfinance as yf\n",
        "import matplotlib.pyplot as plt"
      ],
      "id": "3cbc03b7"
    },
    {
      "cell_type": "markdown",
      "metadata": {},
      "source": [
        "Let’s define the stocks that are of interest for this analysis."
      ],
      "id": "1682a8d1-2544-493c-90d3-dc3bcb810e4d"
    },
    {
      "cell_type": "code",
      "execution_count": 2,
      "metadata": {},
      "outputs": [],
      "source": [
        "# Define the tickers for NVIDIA and Intel\n",
        "tickers = ['NVDA', 'INTC']"
      ],
      "id": "c16a95c6"
    },
    {
      "cell_type": "markdown",
      "metadata": {},
      "source": [
        "Now, downloading the data to our Colab instance or local computer."
      ],
      "id": "9082b861-c48d-453b-b0b4-4c8985cf9be5"
    },
    {
      "cell_type": "code",
      "execution_count": 3,
      "metadata": {},
      "outputs": [],
      "source": [
        "# Download the historical market data since 2012\n",
        "data = yf.download(tickers, start='2012-01-01', end='2024-01-01', group_by='ticker')"
      ],
      "id": "e564d0ea"
    },
    {
      "cell_type": "markdown",
      "metadata": {},
      "source": [
        "Focusing on the closing prices."
      ],
      "id": "843aa82d-512e-4757-a413-c5880adf8529"
    },
    {
      "cell_type": "code",
      "execution_count": 4,
      "metadata": {},
      "outputs": [],
      "source": [
        "# Extract the adjusted closing prices\n",
        "nvda_data = data['NVDA']['Adj Close']\n",
        "intc_data = data['INTC']['Adj Close']"
      ],
      "id": "2c3cd39a"
    },
    {
      "cell_type": "markdown",
      "metadata": {},
      "source": [
        "Drawing."
      ],
      "id": "cdd95634-e74e-498f-bec4-7f206e210475"
    },
    {
      "cell_type": "code",
      "execution_count": 5,
      "metadata": {},
      "outputs": [],
      "source": [
        "# Plot the stock price data\n",
        "plt.figure(figsize=(12, 6))\n",
        "plt.plot(nvda_data.index, nvda_data, label='NVIDIA')\n",
        "plt.plot(intc_data.index, intc_data, label='Intel')\n",
        "plt.title('Stock Prices of NVIDIA and Intel (2012 - 2024)')\n",
        "plt.xlabel('Date')\n",
        "plt.ylabel('Stock Price (USD)')\n",
        "plt.legend()\n",
        "plt.grid(True)\n",
        "plt.show()"
      ],
      "id": "497dfd4e"
    },
    {
      "cell_type": "markdown",
      "metadata": {},
      "source": [
        "Now calculating the market capitalisation."
      ],
      "id": "e86f4e5e-a8ea-4d00-9054-1a51f1fbce1d"
    },
    {
      "cell_type": "code",
      "execution_count": 6,
      "metadata": {},
      "outputs": [],
      "source": [
        "# Fetch the number of shares outstanding (this gives the most recent value)\n",
        "nvda_shares = yf.Ticker('NVDA').info['sharesOutstanding']\n",
        "intc_shares = yf.Ticker('INTC').info['sharesOutstanding']\n",
        "\n",
        "# Calculate market capitalization (Adjusted Close * shares outstanding)\n",
        "nvda_market_cap = data['NVDA']['Close'] * nvda_shares\n",
        "intc_market_cap = data['INTC']['Close'] * intc_shares"
      ],
      "id": "0b2f1a6c"
    },
    {
      "cell_type": "markdown",
      "metadata": {},
      "source": [
        "While the share prices of NVIDIA and Intel are comparable, NVIDIA’s\n",
        "market capitalization has experienced a significant increase since 2020,\n",
        "in contrast to Intel’s more stable market capitalization."
      ],
      "id": "d98b4cd8-7772-4260-b29a-2dfc47d31d4c"
    },
    {
      "cell_type": "code",
      "execution_count": 7,
      "metadata": {},
      "outputs": [],
      "source": [
        "# Plot the market capitalization data\n",
        "plt.figure(figsize=(12, 6))\n",
        "plt.plot(nvda_market_cap.index, nvda_market_cap, label='NVIDIA')\n",
        "plt.plot(intc_market_cap.index, intc_market_cap, label='Intel')\n",
        "plt.title('Market Capitalization of NVIDIA and Intel (2012 - 2024)')\n",
        "plt.xlabel('Date')\n",
        "plt.ylabel('Market Capitalization (USD)')\n",
        "plt.legend()\n",
        "plt.grid(True)\n",
        "plt.show()"
      ],
      "id": "9e72a11a"
    }
  ],
  "nbformat": 4,
  "nbformat_minor": 5,
  "metadata": {
    "kernelspec": {
      "name": "python3",
      "display_name": "Python 3 (ipykernel)",
      "language": "python",
      "path": "/Users/turcotte/opt/micromamba/envs/ai/share/jupyter/kernels/python3"
    },
    "language_info": {
      "name": "python",
      "codemirror_mode": {
        "name": "ipython",
        "version": "3"
      },
      "file_extension": ".py",
      "mimetype": "text/x-python",
      "nbconvert_exporter": "python",
      "pygments_lexer": "ipython3",
      "version": "3.10.18"
    }
  }
}