{
  "cells": [
    {
      "cell_type": "markdown",
      "metadata": {},
      "source": [
        "# Jupyter Notebook - Stock Prices\n",
        "\n",
        "CSI 4106 - Fall 2025\n",
        "\n",
        "Marcel Turcotte (School of Electrical Engineering and Computer Science,\n",
        "University of Ottawa)  \n",
        "2025-09-05\n",
        "\n",
        "# Market Capitalization of NVIDIA and Intel (2012 - 2024)\n",
        "\n",
        "The Python library `yfinance` is often used to download stock market\n",
        "data."
      ],
      "id": "38eaf3c9-8af7-4da9-844f-df0cb03c3066"
    },
    {
      "cell_type": "code",
      "execution_count": 1,
      "metadata": {},
      "outputs": [],
      "source": [
        "import yfinance as yf\n",
        "import matplotlib.pyplot as plt"
      ],
      "id": "e07da3c9"
    },
    {
      "cell_type": "markdown",
      "metadata": {},
      "source": [
        "Let’s define the stocks that are of interest for this analysis."
      ],
      "id": "d45b5b66-3693-481f-ace6-6e8452539e51"
    },
    {
      "cell_type": "code",
      "execution_count": 2,
      "metadata": {},
      "outputs": [],
      "source": [
        "# Define the tickers for NVIDIA and Intel\n",
        "tickers = ['NVDA', 'INTC']"
      ],
      "id": "4c959ade"
    },
    {
      "cell_type": "markdown",
      "metadata": {},
      "source": [
        "Now, downloading the data to our Colab instance or local computer."
      ],
      "id": "a7ae8f22-5bb1-4b4d-a78f-634e557bffc4"
    },
    {
      "cell_type": "code",
      "execution_count": 3,
      "metadata": {},
      "outputs": [],
      "source": [
        "# Download the historical market data since 2012\n",
        "data = yf.download(tickers, start='2012-01-01', end='2024-01-01', group_by='ticker')"
      ],
      "id": "717b17c3"
    },
    {
      "cell_type": "markdown",
      "metadata": {},
      "source": [
        "Focusing on the closing prices."
      ],
      "id": "01adeae2-7052-4959-a1c6-5485ebd0739c"
    },
    {
      "cell_type": "code",
      "execution_count": 4,
      "metadata": {},
      "outputs": [],
      "source": [
        "# Extract the adjusted closing prices\n",
        "nvda_data = data['NVDA']['Close']\n",
        "intc_data = data['INTC']['Close']"
      ],
      "id": "e034f365"
    },
    {
      "cell_type": "markdown",
      "metadata": {},
      "source": [
        "Drawing."
      ],
      "id": "19b03845-d52a-4130-9502-3e8d9c1914d0"
    },
    {
      "cell_type": "code",
      "execution_count": 5,
      "metadata": {},
      "outputs": [],
      "source": [
        "# Plot the stock price data\n",
        "plt.figure(figsize=(12, 6))\n",
        "plt.plot(nvda_data.index, nvda_data, label='NVIDIA')\n",
        "plt.plot(intc_data.index, intc_data, label='Intel')\n",
        "plt.title('Stock Prices of NVIDIA and Intel (2012 - 2024)')\n",
        "plt.xlabel('Date')\n",
        "plt.ylabel('Stock Price (USD)')\n",
        "plt.legend()\n",
        "plt.grid(True)\n",
        "plt.show()"
      ],
      "id": "190a5a36"
    },
    {
      "cell_type": "markdown",
      "metadata": {},
      "source": [
        "Now calculating the market capitalisation."
      ],
      "id": "5fe3fdf8-6cc1-4bd6-bb9d-f0186eb6c344"
    },
    {
      "cell_type": "code",
      "execution_count": 6,
      "metadata": {},
      "outputs": [],
      "source": [
        "# Fetch the number of shares outstanding (this gives the most recent value)\n",
        "nvda_shares = yf.Ticker('NVDA').info['sharesOutstanding']\n",
        "intc_shares = yf.Ticker('INTC').info['sharesOutstanding']\n",
        "\n",
        "# Calculate market capitalization (Adjusted Close * shares outstanding)\n",
        "nvda_market_cap = data['NVDA']['Close'] * nvda_shares\n",
        "intc_market_cap = data['INTC']['Close'] * intc_shares"
      ],
      "id": "c2bc8a93"
    },
    {
      "cell_type": "markdown",
      "metadata": {},
      "source": [
        "While the share prices of NVIDIA and Intel are comparable, NVIDIA’s\n",
        "market capitalization has experienced a significant increase since 2020,\n",
        "in contrast to Intel’s more stable market capitalization."
      ],
      "id": "c1c6a203-d8a9-4d60-9d97-5c114da9a8f0"
    },
    {
      "cell_type": "code",
      "execution_count": 7,
      "metadata": {},
      "outputs": [],
      "source": [
        "# Plot the market capitalization data\n",
        "plt.figure(figsize=(12, 6))\n",
        "plt.plot(nvda_market_cap.index, nvda_market_cap, label='NVIDIA')\n",
        "plt.plot(intc_market_cap.index, intc_market_cap, label='Intel')\n",
        "plt.title('Market Capitalization of NVIDIA and Intel (2012 - 2024)')\n",
        "plt.xlabel('Date')\n",
        "plt.ylabel('Market Capitalization (USD)')\n",
        "plt.legend()\n",
        "plt.grid(True)\n",
        "plt.show()"
      ],
      "id": "cd4482bd"
    }
  ],
  "nbformat": 4,
  "nbformat_minor": 5,
  "metadata": {
    "kernelspec": {
      "name": "python3",
      "display_name": "Python 3 (ipykernel)",
      "language": "python",
      "path": "/Users/turcotte/opt/micromamba/envs/ai/share/jupyter/kernels/python3"
    },
    "language_info": {
      "name": "python",
      "codemirror_mode": {
        "name": "ipython",
        "version": "3"
      },
      "file_extension": ".py",
      "mimetype": "text/x-python",
      "nbconvert_exporter": "python",
      "pygments_lexer": "ipython3",
      "version": "3.10.18"
    }
  }
}